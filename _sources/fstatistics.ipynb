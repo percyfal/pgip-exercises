{
 "cells": [
  {
   "cell_type": "code",
   "execution_count": 1,
   "id": "f26803fc",
   "metadata": {
    "tags": [
     "remove-output"
    ]
   },
   "outputs": [],
   "source": [
    "bind 'set enable-bracketed-paste off'"
   ]
  },
  {
   "cell_type": "markdown",
   "id": "7c540a5e",
   "metadata": {},
   "source": [
    "(sec_fstatistics)=\n",
    "\n",
    "# f-statistics #\n",
    "\n",
    "# Exercises #\n",
    "\n",
    "```{tabbed} Dsuite\n",
    "```{code-block} shell\n",
    "pwd\n",
    "```\n",
    "\n",
    "```{tabbed} sgkit\n",
    "```{code-block} ipython3\n",
    "import sgkit\n",
    "```"
   ]
  },
  {
   "cell_type": "code",
   "execution_count": 2,
   "id": "b2b2cb3b",
   "metadata": {},
   "outputs": [
    {
     "name": "stdout",
     "output_type": "stream",
     "text": [
      "/home/runner/work/pgip-exercises/pgip-exercises\n"
     ]
    }
   ],
   "source": [
    "pwd"
   ]
  },
  {
   "cell_type": "markdown",
   "id": "789a1dea",
   "metadata": {},
   "source": [
    "NOTE: Dsuite uses allele frequency estimates. Start example by\n",
    "calculating stuff by hand.\n",
    "\n",
    "\n",
    "Want also to relate the allele frequencies to branch lengths; cf\n",
    "Peters"
   ]
  }
 ],
 "metadata": {
  "jupytext": {
   "text_representation": {
    "extension": ".md",
    "format_name": "myst",
    "format_version": 0.12,
    "jupytext_version": "1.9.1"
   }
  },
  "kernelspec": {
   "display_name": "Bash",
   "language": "bash",
   "name": "bash"
  },
  "language_info": {
   "codemirror_mode": "shell",
   "file_extension": ".sh",
   "mimetype": "text/x-sh",
   "name": "bash"
  },
  "source_map": [
   15,
   18,
   37,
   39
  ]
 },
 "nbformat": 4,
 "nbformat_minor": 5
}