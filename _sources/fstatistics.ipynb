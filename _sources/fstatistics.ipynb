{
 "cells": [
  {
   "cell_type": "code",
   "execution_count": 1,
   "id": "b3ec8b5c",
   "metadata": {
    "tags": [
     "remove-output"
    ]
   },
   "outputs": [],
   "source": [
    "bind 'set enable-bracketed-paste off'"
   ]
  },
  {
   "cell_type": "markdown",
   "id": "0d5f933b",
   "metadata": {},
   "source": [
    "(sec_fstatistics)=\n",
    "\n",
    "# f-statistics #\n",
    "\n",
    "# Exercises #\n",
    "\n",
    "```{tabbed} Dsuite\n",
    "```{code-block} shell\n",
    "pwd\n",
    "```\n",
    "\n",
    "```{tabbed} sgkit\n",
    "```{code-block} ipython3\n",
    "import sgkit\n",
    "```"
   ]
  },
  {
   "cell_type": "code",
   "execution_count": 2,
   "id": "6c375fce",
   "metadata": {},
   "outputs": [
    {
     "name": "stdout",
     "output_type": "stream",
     "text": [
      "/home/runner/work/pgip-exercises/pgip-exercises\n"
     ]
    }
   ],
   "source": [
    "pwd"
   ]
  },
  {
   "cell_type": "markdown",
   "id": "9b3cb867",
   "metadata": {},
   "source": [
    "NOTE: Dsuite uses allele frequency estimates. Start example by\n",
    "calculating stuff by hand.\n",
    "\n",
    "\n",
    "Want also to relate the allele frequencies to branch lengths; cf\n",
    "Peters"
   ]
  }
 ],
 "metadata": {
  "jupytext": {
   "text_representation": {
    "extension": ".md",
    "format_name": "myst",
    "format_version": 0.12,
    "jupytext_version": "1.9.1"
   }
  },
  "kernelspec": {
   "display_name": "Bash",
   "language": "bash",
   "name": "bash"
  },
  "language_info": {
   "codemirror_mode": "shell",
   "file_extension": ".sh",
   "mimetype": "text/x-sh",
   "name": "bash"
  },
  "source_map": [
   15,
   18,
   37,
   39
  ]
 },
 "nbformat": 4,
 "nbformat_minor": 5
}