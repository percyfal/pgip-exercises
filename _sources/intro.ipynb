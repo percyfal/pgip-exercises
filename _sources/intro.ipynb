{
 "cells": [
  {
   "cell_type": "markdown",
   "id": "3b15e171",
   "metadata": {},
   "source": [
    "(sec_intro)=\n",
    "\n",
    "# Welcome!\n",
    "\n",
    "This site contains a number of tutorials to develop your understanding of\n",
    "[succinct tree sequences](https://tskit.dev/learn.html#what) and software programs,\n",
    "such as [msprime](https://tskit.dev/msprime), that use them."
   ]
  },
  {
   "cell_type": "code",
   "execution_count": 1,
   "id": "ce7da5db",
   "metadata": {},
   "outputs": [
    {
     "name": "stdout",
     "output_type": "stream",
     "text": [
      "6\n"
     ]
    }
   ],
   "source": [
    "import tskit\n",
    "import msprime\n",
    "a = 3+3\n",
    "print(a)"
   ]
  },
  {
   "cell_type": "markdown",
   "id": "4243271a",
   "metadata": {},
   "source": [
    "```{math}\n",
    "\\pi = \\sum_{ij} x_i x_j \\pi_{ij}\n",
    "```"
   ]
  },
  {
   "cell_type": "code",
   "execution_count": 2,
   "id": "94c083c2",
   "metadata": {
    "tags": [
     "hide-input"
    ]
   },
   "outputs": [
    {
     "name": "stdout",
     "output_type": "stream",
     "text": [
      "/home/runner/work/pgip_exercises/pgip_exercises\n"
     ]
    }
   ],
   "source": [
    "import os\n",
    "print(os.getcwd())"
   ]
  },
  {
   "cell_type": "code",
   "execution_count": 3,
   "id": "adceab58",
   "metadata": {
    "tags": [
     "remove-input"
    ]
   },
   "outputs": [],
   "source": [
    "# This cell deliberately removed (not just hidden via a toggle) as it's not helpful\n",
    "# for understanding tskit code (it's merely plotting code)\n",
    "from IPython.display import SVG"
   ]
  }
 ],
 "metadata": {
  "jupytext": {
   "text_representation": {
    "extension": ".md",
    "format_name": "myst",
    "format_version": 0.12,
    "jupytext_version": "1.9.1"
   }
  },
  "kernelspec": {
   "display_name": "Python 3",
   "language": "python",
   "name": "pgip"
  },
  "language_info": {
   "codemirror_mode": {
    "name": "ipython",
    "version": 3
   },
   "file_extension": ".py",
   "mimetype": "text/x-python",
   "name": "python",
   "nbconvert_exporter": "python",
   "pygments_lexer": "ipython3",
   "version": "3.9.12"
  },
  "source_map": [
   12,
   23,
   28,
   36,
   42
  ]
 },
 "nbformat": 4,
 "nbformat_minor": 5
}