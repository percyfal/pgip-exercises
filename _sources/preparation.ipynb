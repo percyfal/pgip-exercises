{
 "cells": [
  {
   "cell_type": "markdown",
   "id": "a1e0c9f1",
   "metadata": {},
   "source": [
    "```{admonition} FIXME\n",
    ":class: warning\n",
    "Student preparatory information, including:\n",
    "\n",
    "- howto setup compute environment\n",
    "- howto work on uppmax\n",
    "- suggested reading\n",
    "```\n",
    "\n",
    "\n",
    "(sec_preparation)=\n",
    "\n",
    "# Preparation\n",
    "\n",
    "\n",
    "(sec_preparation_compute_environment)=\n",
    "\n",
    "## Compute environment\n",
    "\n",
    "Add instructions on packages to install, or provide a docker image.\n",
    "\n",
    "(sec_preparation_command_line)=\n",
    "\n",
    "## Command line\n",
    "\n",
    "Add basics of working in a CLI.\n",
    "\n",
    "(sec_preparation_uppmax)=\n",
    "\n",
    "## UPPMAX\n",
    "\n",
    "Add instructions on how to work on uppmax. Prerecorded video would be nice.\n",
    "\n",
    "(sec_preparation_population_genetics_basics)=\n",
    "\n",
    "\n",
    "## Population genetics basics\n",
    "\n",
    "Add short summary of basic concepts? Glossary-like?\n",
    "\n",
    "\n",
    "(sec_preparation_suggested_readings)=\n",
    "\n",
    "## Suggested readings\n",
    "\n",
    "{cite}`johri_StatisticalInferencePopulation_2021` on Statistical\n",
    "Inference in Population Genetics."
   ]
  }
 ],
 "metadata": {
  "jupytext": {
   "text_representation": {
    "extension": ".md",
    "format_name": "myst",
    "format_version": 0.12,
    "jupytext_version": "1.9.1"
   }
  },
  "kernelspec": {
   "display_name": "Python 3",
   "language": "python",
   "name": "pgip"
  },
  "language_info": {
   "codemirror_mode": {
    "name": "ipython",
    "version": 3
   },
   "file_extension": ".py",
   "mimetype": "text/x-python",
   "name": "python",
   "nbconvert_exporter": "python",
   "pygments_lexer": "ipython3",
   "version": "3.9.13"
  },
  "source_map": [
   12
  ]
 },
 "nbformat": 4,
 "nbformat_minor": 5
}