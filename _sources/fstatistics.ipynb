{
 "cells": [
  {
   "cell_type": "markdown",
   "id": "16a1b67f",
   "metadata": {},
   "source": [
    "(sec_fstatistics)=\n",
    "\n",
    "# f-statistics #\n",
    "\n",
    "# Exercises #\n",
    "\n",
    "```{tabbed} Dsuite\n",
    "```{code-block} shell\n",
    "pwd\n",
    "```\n",
    "\n",
    "```{tabbed} sgkit\n",
    "```{code-block} ipython3\n",
    "import sgkit\n",
    "```\n",
    "\n",
    "\n",
    "```{code-block} shell\n",
    "pwd\n",
    "```"
   ]
  },
  {
   "cell_type": "code",
   "execution_count": 1,
   "id": "25edcf1a",
   "metadata": {
    "tags": [
     "remove-input"
    ]
   },
   "outputs": [
    {
     "name": "stdout",
     "output_type": "stream",
     "text": [
      "/home/runner/work/pgip_exercises/pgip_exercises\n"
     ]
    }
   ],
   "source": [
    "import subprocess as sp\n",
    "_ = sp.check_call([\"pwd\"])"
   ]
  },
  {
   "cell_type": "markdown",
   "id": "7d1fedc7",
   "metadata": {},
   "source": [
    "NOTE: Dsuite uses allele frequency estimates. Start example by\n",
    "calculating stuff by hand.\n",
    "\n",
    "\n",
    "Want also to relate the allele frequencies to branch lengths; cf\n",
    "Peters"
   ]
  }
 ],
 "metadata": {
  "jupytext": {
   "text_representation": {
    "extension": ".md",
    "format_name": "myst",
    "format_version": 0.12,
    "jupytext_version": "1.9.1"
   }
  },
  "kernelspec": {
   "display_name": "Python 3",
   "language": "python",
   "name": "pgip"
  },
  "language_info": {
   "codemirror_mode": {
    "name": "ipython",
    "version": 3
   },
   "file_extension": ".py",
   "mimetype": "text/x-python",
   "name": "python",
   "nbconvert_exporter": "python",
   "pygments_lexer": "ipython3",
   "version": "3.9.12"
  },
  "source_map": [
   12,
   35,
   39
  ]
 },
 "nbformat": 4,
 "nbformat_minor": 5
}