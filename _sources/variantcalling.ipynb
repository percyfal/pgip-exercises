{
 "cells": [
  {
   "cell_type": "markdown",
   "id": "0dae50c0",
   "metadata": {},
   "source": [
    "```{note}\n",
    "About: exercises on variant calling. Input data consists of simulated and/or experimental data.\n",
    "```\n",
    "\n",
    "(sec_variantcalling)=\n",
    "\n",
    "# Variant calling\n",
    "\n",
    "\n",
    "## Best practice pipeline\n",
    "\n",
    "Briefly describe best practice pipeline (e.g. GATK, bcftools,\n",
    "freebayes), highlighting some of the problems with natural\n",
    "populations:\n",
    "- many workflows are human-centric and don't scale to non-model\n",
    "  organisms (e.g. chromosome numbers in GATK)\n",
    "  \n",
    "\n",
    "## Variant calling exercise\n",
    "\n",
    "```{tabbed} bcftools\n",
    "```{code-block} shell\n",
    "bcftools | head -2\n",
    "```\n",
    "\n",
    "```{tabbed} gatk\n",
    "```{code-block} shell\n",
    "gatk HaplotypeCaller\n",
    "```\n",
    "\n",
    "Optional: run bcftools / HaplotypeCaller / freebayes on data set or at\n",
    "least show commands how files were generated\n",
    "\n",
    "# References\n",
    "\n",
    "https://link.springer.com/protocol/10.1007/978-1-4939-3578-9_11"
   ]
  }
 ],
 "metadata": {
  "jupytext": {
   "text_representation": {
    "extension": ".md",
    "format_name": "myst",
    "format_version": 0.12,
    "jupytext_version": "1.9.1"
   }
  },
  "kernelspec": {
   "display_name": "Python 3",
   "language": "python",
   "name": "pgip"
  },
  "language_info": {
   "codemirror_mode": {
    "name": "ipython",
    "version": 3
   },
   "file_extension": ".py",
   "mimetype": "text/x-python",
   "name": "python",
   "nbconvert_exporter": "python",
   "pygments_lexer": "ipython3",
   "version": "3.9.13"
  },
  "source_map": [
   12
  ]
 },
 "nbformat": 4,
 "nbformat_minor": 5
}