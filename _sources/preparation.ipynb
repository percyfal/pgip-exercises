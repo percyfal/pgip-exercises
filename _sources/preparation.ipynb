{
 "cells": [
  {
   "cell_type": "markdown",
   "id": "eb52f850",
   "metadata": {},
   "source": [
    "(sec_preparation)=\n",
    "\n",
    "# Preparation\n",
    "\n",
    "```{note}\n",
    "testing note\n",
    "```"
   ]
  }
 ],
 "metadata": {
  "jupytext": {
   "text_representation": {
    "extension": ".md",
    "format_name": "myst",
    "format_version": 0.12,
    "jupytext_version": "1.9.1"
   }
  },
  "kernelspec": {
   "display_name": "Python 3",
   "language": "python",
   "name": "pgip"
  },
  "language_info": {
   "codemirror_mode": {
    "name": "ipython",
    "version": 3
   },
   "file_extension": ".py",
   "mimetype": "text/x-python",
   "name": "python",
   "nbconvert_exporter": "python",
   "pygments_lexer": "ipython3",
   "version": "3.9.12"
  },
  "source_map": [
   12
  ]
 },
 "nbformat": 4,
 "nbformat_minor": 5
}