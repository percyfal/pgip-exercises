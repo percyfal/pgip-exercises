{
 "cells": [
  {
   "cell_type": "markdown",
   "id": "c8e916cf",
   "metadata": {},
   "source": [
    "(sec_nucleotide_diversity)=\n",
    "\n",
    "# Nucleotide diversity\n",
    "The nucleotide diversity is defined as the average number of pairwise\n",
    "differences per site for a number of sequences\n",
    "{cite}`nei_MolecularEvolutionPhylogenetics_2000`, p. 251:\n",
    "\n",
    "$$\n",
    " \\pi = \\sum_{ij} x_i x_j \\pi_{ij}\n",
    "$$\n",
    "\n",
    "Here $x_i$ is the population frequency of sequence $i$. It is unclear\n",
    "whether it means the number of occurrences or the fraction of sequence\n",
    "$i$ in a population of $n$ samples.\n",
    "\n",
    "Since $\\pi_{ii} = 0$ and $\\pi_{ij} = \\pi_{ji}$, the equation can be\n",
    "rewritten as\n",
    "\n",
    "$$\n",
    " \\pi = \\sum_{ij} x_i x_j \\pi_{ij} = \\sum_{i<j} x_i x_j \\pi_{ij} + \\sum_{j<i} x_j x_i \\pi_{ji} + \\sum_{i} x_i x_i \\pi_{ii} = 2\\sum_{ij} x_i x_j \\pi_{ij}\n",
    "$$\n",
    "\n",
    "The (second) summation has $n(n-1)/2$ terms.\n",
    "\n",
    "The nucleotide diversity can also be expressed as a function of the\n",
    "allele frequency spectrum (afs) $p = (p_1,p_2,...,p_q)$, where\n",
    "$p_i$ is the frequency of sites with $i$ minor alleles, and $q$ is the\n",
    "number of possible non-monomorphic allele configurations. For diploid\n",
    "organisms, $q = 2k - 1$. $p$ is the *unfolded* afs. There is a\n",
    "*folded* version $p^* = (p^*_1, p^*_2, p^*_{\\lceil(q+1)/2\\rceil})$,\n",
    "where $p^*_i = p_i + p_{q-i}$ for $i \\neq \\lceil(q+1)/2\\rceil$ and\n",
    "$p^*_i = p_i$ otherwise.\n",
    "\n",
    "Now, for a given site $s$ with $i$ minor alleles, there are $i(q-i)$\n",
    "different combinations where $\\pi_{ij} \\neq 0$. Moreover, $x_i = x_j =\n",
    " 1$, such that\n",
    "\n",
    "$$\n",
    " \\pi_s = \\sum_{i<j} x_i x_j \\pi_{ij} = i(q - i)\n",
    "$$\n",
    "\n",
    "Generalizing to $S = \\sum_{i=1}^{q} p_i$ sites, there are $p_i$ sites\n",
    "with allele configuration $i, (q-i)$, such that\n",
    "\n",
    "$$\n",
    " \\pi = \\sum_{i=1}^{q} p_i i (q-i)\n",
    "$$\n",
    "\n",
    "Normalizing by the number of terms for each site, $n(n-1)/2$ gives the\n",
    "average pairwise nucleotide diversity per site.\n",
    "\n",
    "Letting $k = \\lceil(q+1)/2\\rceil$, we can further rewrite $\\pi$ as\n",
    "\n",
    "$$\n",
    " \\pi = \\sum_{i=1}^{q} p_i i (q-i) = p_k k (q-k) +  \\sum_{i=1}^{k - 1} p_i i (q-i) + p_{q-i} (q-i) i = \\sum_{i=1}^{k} p^*_i i (k - i)\n",
    "$$\n",
    "\n",
    "\n",
    "\n",
    "## References\n",
    "\n",
    "```{bibliography}\n",
    ":style: unsrt\n",
    "```"
   ]
  }
 ],
 "metadata": {
  "jupytext": {
   "text_representation": {
    "extension": ".md",
    "format_name": "myst",
    "format_version": 0.12,
    "jupytext_version": "1.9.1"
   }
  },
  "kernelspec": {
   "display_name": "bash",
   "language": "bash",
   "name": "bash"
  },
  "language_info": {
   "codemirror_mode": "shell",
   "file_extension": ".sh",
   "mimetype": "text/x-sh",
   "name": "bash"
  },
  "source_map": [
   12
  ]
 },
 "nbformat": 4,
 "nbformat_minor": 5
}